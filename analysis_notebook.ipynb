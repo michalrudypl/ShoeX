{
 "cells": [
  {
   "cell_type": "code",
   "execution_count": null,
   "id": "a8fada2e",
   "metadata": {},
   "outputs": [],
   "source": [
    "\n",
    "import pandas as pd\n",
    "import matplotlib.pyplot as plt\n",
    "import seaborn as sns\n",
    "sns.set_theme()\n"
   ]
  },
  {
   "cell_type": "code",
   "execution_count": null,
   "id": "d96579e0",
   "metadata": {},
   "outputs": [],
   "source": [
    "\n",
    "merged_df = pd.read_excel(\"merged.xlsx\")\n",
    "result_df = pd.read_excel(\"result.xlsx\")\n"
   ]
  },
  {
   "cell_type": "markdown",
   "id": "844c0313",
   "metadata": {},
   "source": [
    "## Analiza dla merged.xlsx"
   ]
  },
  {
   "cell_type": "code",
   "execution_count": null,
   "id": "dc54bc8d",
   "metadata": {},
   "outputs": [],
   "source": [
    "\n",
    "# Top 10 shoes by numberOfAsks\n",
    "top_10_asks = merged_df.sort_values(by=\"numberOfAsks\", ascending=False).head(10)\n",
    "plt.figure(figsize=(12, 8))\n",
    "sns.barplot(x=\"numberOfAsks\", y=\"Title\", data=top_10_asks, palette=\"viridis\")\n",
    "plt.title(\"Top 10 butów pod względem liczby ofert\")\n",
    "plt.xlabel(\"Liczba ofert\")\n",
    "plt.ylabel(\"Nazwa buta\")\n",
    "plt.tight_layout()\n",
    "plt.show()\n",
    "\n",
    "# Top 10 shoes by salesThisPeriod\n",
    "top_10_sales = merged_df.sort_values(by=\"salesThisPeriod\", ascending=False).head(10)\n",
    "plt.figure(figsize=(12, 8))\n",
    "sns.barplot(x=\"salesThisPeriod\", y=\"Title\", data=top_10_sales, palette=\"magma\")\n",
    "plt.title(\"Top 10 butów pod względem sprzedaży w tym okresie\")\n",
    "plt.xlabel(\"Liczba sprzedaży\")\n",
    "plt.ylabel(\"Nazwa buta\")\n",
    "plt.tight_layout()\n",
    "plt.show()\n",
    "\n",
    "# Scatter plot for correlation between lowestAsk and numberOfAsks\n",
    "plt.figure(figsize=(12, 8))\n",
    "sns.scatterplot(x=\"lowestAsk\", y=\"numberOfAsks\", data=merged_df, alpha=0.6, edgecolor=None, palette=\"coolwarm\")\n",
    "plt.title(\"Korelacja między najniższą ofertą a liczbą ofert\")\n",
    "plt.xlabel(\"Najniższa oferta\")\n",
    "plt.ylabel(\"Liczba ofert\")\n",
    "plt.tight_layout()\n",
    "plt.show()\n",
    "\n",
    "# Average offer price\n",
    "average_price = merged_df[\"lowestAsk\"].mean()\n",
    "average_price\n"
   ]
  },
  {
   "cell_type": "markdown",
   "id": "18afcbd9",
   "metadata": {},
   "source": [
    "## Analiza dla result.xlsx"
   ]
  },
  {
   "cell_type": "code",
   "execution_count": null,
   "id": "6ba72125",
   "metadata": {},
   "outputs": [],
   "source": [
    "\n",
    "# Top 10 shoes by profitOrLoss\n",
    "top_10_profit = result_df.sort_values(by=\"profitOrLoss\", ascending=False).head(10)\n",
    "plt.figure(figsize=(12, 8))\n",
    "sns.barplot(x=\"profitOrLoss\", y=\"Title\", data=top_10_profit, palette=\"Greens\")\n",
    "plt.title(\"Top 10 butów pod względem zysku\")\n",
    "plt.xlabel(\"Zysk\")\n",
    "plt.ylabel(\"Nazwa buta\")\n",
    "plt.tight_layout()\n",
    "plt.show()\n",
    "\n",
    "# Top 10 shoes by profitOrLoss (losses)\n",
    "top_10_loss = result_df.sort_values(by=\"profitOrLoss\", ascending=True).head(10)\n",
    "plt.figure(figsize=(12, 8))\n",
    "sns.barplot(x=\"profitOrLoss\", y=\"Title\", data=top_10_loss, palette=\"Reds_r\")\n",
    "plt.title(\"Top 10 butów pod względem straty\")\n",
    "plt.xlabel(\"Strata\")\n",
    "plt.ylabel(\"Nazwa buta\")\n",
    "plt.tight_layout()\n",
    "plt.show()\n",
    "\n",
    "# Average final price after taxes\n",
    "average_final_price = result_df[\"finalPriceAfterTaxes\"].mean()\n",
    "average_final_price\n"
   ]
  }
 ],
 "metadata": {
  "language_info": {
   "name": "python"
  }
 },
 "nbformat": 4,
 "nbformat_minor": 5
}
